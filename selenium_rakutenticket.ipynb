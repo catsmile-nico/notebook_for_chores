{
 "cells": [
  {
   "attachments": {},
   "cell_type": "markdown",
   "metadata": {},
   "source": [
    "### README\n",
    "- From a rakuten ticket performance page, we want to check if a seat becomes open\n",
    "- Since we cannot play a sound from WSL yet, so we use a popup to alert us using matplotlib.pyplot and [VCXSRV](https://sourceforge.net/projects/vcxsrv/)"
   ]
  },
  {
   "attachments": {},
   "cell_type": "markdown",
   "metadata": {},
   "source": [
    "---\n",
    "### Init selenium stuff"
   ]
  },
  {
   "cell_type": "code",
   "execution_count": 3,
   "metadata": {},
   "outputs": [],
   "source": [
    "import os.path\n",
    "from selenium import webdriver\n",
    "from selenium.webdriver.chrome.service import Service\n",
    "from selenium.webdriver.common.by import By\n",
    "from selenium.webdriver.chrome.options import Options\n",
    "\n",
    "from selenium.webdriver.support.ui import WebDriverWait\n",
    "from selenium.webdriver.support import expected_conditions as EC"
   ]
  },
  {
   "cell_type": "code",
   "execution_count": 4,
   "metadata": {},
   "outputs": [],
   "source": [
    "# Init chromedriver\n",
    "chrome_options = Options()\n",
    "chrome_options.add_argument(\"--headless\") # turn off GUI\n",
    "chrome_options.add_argument(\"--no-sandbox\")\n",
    "\n",
    "homedir = os.path.expanduser(\"~\")\n",
    "webdriver_service = Service(f\"{homedir}/chromedriver/stable/chromedriver\")\n",
    "\n",
    "# Init browser\n",
    "browser = webdriver.Chrome(service=webdriver_service, options=chrome_options)"
   ]
  },
  {
   "cell_type": "code",
   "execution_count": 7,
   "metadata": {},
   "outputs": [
    {
     "data": {
      "text/plain": [
       "'[Rakuten]Login'"
      ]
     },
     "execution_count": 7,
     "metadata": {},
     "output_type": "execute_result"
    }
   ],
   "source": [
    "browser.get(\"https://ticket.rakuten.co.jp/cart/performances/248020\")\n",
    "\n",
    "elems = WebDriverWait(browser,10).until(EC.presence_of_all_elements_located((By.XPATH, \"//div[@id='loginInner']\")))\n",
    "print(browser.title)"
   ]
  },
  {
   "cell_type": "code",
   "execution_count": null,
   "metadata": {},
   "outputs": [],
   "source": [
    "import getpass\n",
    "username = input(\"Username:\")\n",
    "password = getpass.getpass(\"Password:\")"
   ]
  },
  {
   "cell_type": "code",
   "execution_count": 17,
   "metadata": {},
   "outputs": [
    {
     "name": "stdout",
     "output_type": "stream",
     "text": [
      "チケット販売・イベントの予約 [音楽 / コンサート / 舞台 / スポーツ] - 楽天チケット\n",
      "席種をお選びください\n",
      "全席指定\n",
      "×\n",
      "見切れ席\n",
      "×\n"
     ]
    }
   ],
   "source": [
    "# Login\n",
    "login_username = elems[0].find_element(By.XPATH, \"//input[@id='loginInner_u']\")\n",
    "login_password = elems[0].find_element(By.XPATH, \"//input[@id='loginInner_p']\")\n",
    "login_submit = elems[0].find_element(By.XPATH, \"//input[@type='submit'][@class='loginButton']\")\n",
    "\n",
    "login_username.send_keys(username)\n",
    "login_password.send_keys(password)\n",
    "\n",
    "login_submit.click()\n",
    "\n",
    "print(browser.title)\n",
    "elems = WebDriverWait(browser,10).until(EC.presence_of_all_elements_located((By.XPATH, \"//div[@id='selectSeatType']\")))\n",
    "print(elems[0].find_element(By.XPATH, \"//div[@id='selectSeatType']\").text)"
   ]
  },
  {
   "cell_type": "code",
   "execution_count": 47,
   "metadata": {},
   "outputs": [
    {
     "name": "stdout",
     "output_type": "stream",
     "text": [
      "2\n"
     ]
    }
   ],
   "source": [
    "import matplotlib.pyplot as plt\n",
    "\n",
    "while 1:\n",
    "    browser.refresh()\n",
    "    elems = WebDriverWait(browser,10).until(EC.presence_of_all_elements_located((By.XPATH, \"//div[@id='selectSeatType']\")))\n",
    "    elem_text = elems[0].find_element(By.XPATH, \"//div[@id='selectSeatType']\").text\n",
    "    if elem_text.count(\"×\") != 2:\n",
    "        plt.title('Hello') # we cannot play sound from WSL, so we show plt popup instead..\n",
    "        plt.show()\n",
    "    else: print(elem_text.count(\"×\"))"
   ]
  },
  {
   "cell_type": "code",
   "execution_count": 48,
   "metadata": {},
   "outputs": [],
   "source": [
    "browser.quit()"
   ]
  }
 ],
 "metadata": {
  "kernelspec": {
   "display_name": "scrap",
   "language": "python",
   "name": "python3"
  },
  "language_info": {
   "codemirror_mode": {
    "name": "ipython",
    "version": 3
   },
   "file_extension": ".py",
   "mimetype": "text/x-python",
   "name": "python",
   "nbconvert_exporter": "python",
   "pygments_lexer": "ipython3",
   "version": "3.9.16"
  },
  "orig_nbformat": 4,
  "vscode": {
   "interpreter": {
    "hash": "f95566cbf3af47c4fc3c01faf9560b52018f1b2ba671dc5388c52585c1fc7e30"
   }
  }
 },
 "nbformat": 4,
 "nbformat_minor": 2
}
