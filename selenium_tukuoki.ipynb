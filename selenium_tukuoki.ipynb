{
 "cells": [
  {
   "attachments": {},
   "cell_type": "markdown",
   "metadata": {},
   "source": [
    "### README\n",
    "- From the user favourites page in [つくおき](https://cookien.com/favorite/)\n",
    "- Extract all recipes found inside\n",
    "  - Title\n",
    "  - Storage period\n",
    "  - Ingredients\n",
    "  - Instructions\n",
    "---"
   ]
  },
  {
   "cell_type": "code",
   "execution_count": 1,
   "metadata": {},
   "outputs": [],
   "source": [
    "OUTPUT_LEVEL = 1 # 1 - Ingredients only / 2 - All"
   ]
  },
  {
   "attachments": {},
   "cell_type": "markdown",
   "metadata": {},
   "source": [
    "### Init selenium stuff"
   ]
  },
  {
   "cell_type": "code",
   "execution_count": 2,
   "metadata": {},
   "outputs": [],
   "source": [
    "import os.path\n",
    "\n",
    "from dotenv import load_dotenv\n",
    "load_dotenv()\n",
    "\n",
    "from selenium import webdriver\n",
    "from selenium.webdriver.chrome.service import Service\n",
    "from selenium.webdriver.common.by import By\n",
    "from selenium.webdriver.chrome.options import Options\n",
    "\n",
    "from selenium.webdriver.support.ui import WebDriverWait\n",
    "from selenium.webdriver.support import expected_conditions as EC"
   ]
  },
  {
   "cell_type": "code",
   "execution_count": 3,
   "metadata": {},
   "outputs": [],
   "source": [
    "# Init chromedriver\n",
    "chrome_options = Options()\n",
    "chrome_options.add_argument(\"--headless\") # turn off GUI\n",
    "chrome_options.add_argument(\"--no-sandbox\")\n",
    "\n",
    "homedir = os.path.expanduser(\"~\")\n",
    "webdriver_service = Service(f\"{homedir}/chromedriver/stable/chromedriver\")\n",
    "\n",
    "# Init browser\n",
    "browser = webdriver.Chrome(service=webdriver_service, options=chrome_options)"
   ]
  },
  {
   "attachments": {},
   "cell_type": "markdown",
   "metadata": {},
   "source": [
    "---\n",
    "\n",
    "### Open favorites page"
   ]
  },
  {
   "cell_type": "code",
   "execution_count": 4,
   "metadata": {},
   "outputs": [
    {
     "name": "stdout",
     "output_type": "stream",
     "text": [
      "| つくおき | 作り置き・簡単レシピサイト\n",
      "ログイン\n",
      "ユーザID または メールアドレス\n",
      "パスワード\n",
      " ログイン状態を保存する  \n",
      "パスワードをお忘れですか？ パスワードリセット\n",
      "はじめての方はこちら 新規ユーザー登録\n"
     ]
    }
   ],
   "source": [
    "browser.get(\"https://cookien.com/favorite/\")\n",
    "\n",
    "elems = WebDriverWait(browser,10).until(EC.presence_of_all_elements_located((By.XPATH, \"//div[@id='wpmem_login']\")))\n",
    "print(browser.title)\n",
    "\n",
    "print(elems[0].find_element(By.XPATH, \"//div[@id='wpmem_login']\").text)"
   ]
  },
  {
   "attachments": {},
   "cell_type": "markdown",
   "metadata": {},
   "source": [
    "---\n",
    "### Handle login"
   ]
  },
  {
   "cell_type": "code",
   "execution_count": 5,
   "metadata": {},
   "outputs": [],
   "source": [
    "username = os.getenv(\"COOKIEN_USER\")\n",
    "password = os.getenv(\"COOKIEN_PASS\")"
   ]
  },
  {
   "cell_type": "code",
   "execution_count": 6,
   "metadata": {},
   "outputs": [
    {
     "name": "stdout",
     "output_type": "stream",
     "text": [
      "お気に入り一覧 | つくおき | 作り置き・簡単レシピサイト\n",
      "© 2013-2023 つくおき All rights reserved.\n",
      "当サイトの情報及び、使用している画像、テキスト等の無断転載を禁じます。\n"
     ]
    }
   ],
   "source": [
    "# Login\n",
    "login_username = elems[0].find_element(By.XPATH, \"//input[@id='log']\")\n",
    "login_password = elems[0].find_element(By.XPATH, \"//input[@id='pwd']\")\n",
    "login_submit = elems[0].find_element(By.XPATH, \"//input[@type='submit'][@class='buttons']\")\n",
    "\n",
    "login_username.send_keys(username)\n",
    "login_password.send_keys(password)\n",
    "\n",
    "login_submit.click()\n",
    "\n",
    "# Post-login / wait for page to load\n",
    "print(browser.title)\n",
    "elems = WebDriverWait(browser,10).until(EC.presence_of_all_elements_located((By.XPATH, \"//div[@class='site-info clear']\")))\n",
    "print(elems[0].find_element(By.XPATH, \"//div[@class='site-info clear']\").text)"
   ]
  },
  {
   "attachments": {},
   "cell_type": "markdown",
   "metadata": {},
   "source": [
    "--- \n",
    "\n",
    "### Extract recipe data for each item found in favourites page"
   ]
  },
  {
   "cell_type": "code",
   "execution_count": 7,
   "metadata": {},
   "outputs": [
    {
     "name": "stdout",
     "output_type": "stream",
     "text": [
      "# [レモンペッパーチキン](https://cookien.com/recipe/43773/)\n",
      "## 材料（保存容器大1個分）, 食べきりの場合 3～4人分\n",
      "\t 鶏もも肉 約400g\n",
      "\t ◎油 大1\n",
      "\t ◎レモン汁 大1/2\n",
      "\t ◎中華スープの素（メモ1） 5g\n",
      "\t ◎ブラックペッパー 1g\n",
      "\t ◎チリパウダー 1g\n",
      "==================================================\n",
      "# [なすとピーマンの肉みそ炒め](https://cookien.com/recipe/16285/)\n",
      "## 材料（保存容器大1個分）, 食べきりの場合 3～4人分\n",
      "\t 豚ひき肉 約300g\n",
      "\t ピーマン 4個\n",
      "\t なす 2本\n",
      "\t にんにく 1かけ\n",
      "\t ◯塩 少々\n",
      "\t ◎みりん 大2\n",
      "\t ◎みそ 大1.5\n",
      "\t ◎オイスターソース 大1\n",
      "\t ごま油 大1（お好みで）\n",
      "==================================================\n",
      "# [ミックスビーンズのトマトカレー煮込み](https://cookien.com/recipe/1557/)\n",
      "## 材料（保存容器中1個分）, 食べきりの場合 3～4人分\n",
      "\t ミックスビーンズ 1袋（約120g）\n",
      "\t トマト 2個\n",
      "\t 玉ねぎ 1/2個（約150g）\n",
      "\t 顆粒コンソメ 小1\n",
      "\t カレールー 約20g\n",
      "==================================================\n",
      "# [ピーマンの塩こんぶおかか和え](https://cookien.com/recipe/3367/)\n",
      "## 材料（保存容器中1個分）, 食べきりの場合 3～4人分\n",
      "\t ピーマン（メモ1） 6個\n",
      "\t ◎和風だしの素 小1/2\n",
      "\t ◎塩こんぶ 2つまみ（約6g）\n",
      "\t ◎おかか 小分け1袋（2.5g）\n",
      "==================================================\n",
      "# [ほうれん草のチーズ和え](https://cookien.com/recipe/41127/)\n",
      "## 材料（保存容器中1個分）, 食べきりの場合 3～4人分\n",
      "\t ほうれん草 1袋（6～8株）\n",
      "\t プロセスチーズ 約40g\n",
      "\t ◎醤油 大1/2\n",
      "\t ◎粉チーズ 小1\n",
      "\t ◎砂糖 小1/2\n",
      "\t ◎ブラックペッパー 少々\n",
      "==================================================\n",
      "# [トマトときゅうりの塩こうじ和え](https://cookien.com/recipe/37579/)\n",
      "## 材料（保存容器中1個分）, 食べきりの場合 3～4人分\n",
      "\t トマト 1個（約150g）\n",
      "\t きゅうり 1本\n",
      "\t ◎塩こうじ（メモ1） 大1.5\n",
      "\t ◎和風顆粒だし 小1/3\n",
      "==================================================\n",
      "# [ほうれん草のピーナッツ和え](https://cookien.com/recipe/5151/)\n",
      "## 材料（保存容器中1個分）, 食べきりの場合 3～4人分\n",
      "\t ほうれん草 1袋（6～8株）\n",
      "\t ピーナッツ（うす塩） 約50g\n",
      "\t ◎砂糖 大1/2\n",
      "\t ◎醤油 大1/2\n",
      "==================================================\n",
      "# [大豆とじゃこの甘辛炒め](https://cookien.com/recipe/37796/)\n",
      "## 材料（保存容器中1個分）, 食べきりの場合 3～4人分\n",
      "\t 大豆水煮 1袋（固形量200g）\n",
      "\t ちりめんじゃこ 約30g\n",
      "\t ◎みりん 大2\n",
      "\t ◎砂糖 大1\n",
      "\t ◎醤油 小2\n",
      "==================================================\n",
      "# [トマトのだし漬け](https://cookien.com/recipe/27174/)\n",
      "## 材料（保存容器大1個分）, 食べきりの場合 4人分\n",
      "\t トマト 4個\n",
      "\t ◎白だし 大2\n",
      "\t ◎醤油 小1\n",
      "\t ◎水 200mL\n",
      "==================================================\n",
      "# [なすとパプリカの甘酢炒め](https://cookien.com/recipe/6226/)\n",
      "## 材料（保存容器中１個分）, 食べきりの場合 ３～４人分\n",
      "\t なす １本\n",
      "\t パプリカ（赤） １／２個\n",
      "\t パプリカ（黄） １／２個\n",
      "\t ◎調味酢（メモ１） 大１．５\n",
      "\t ◎醤油 大１／２\n",
      "==================================================\n"
     ]
    }
   ],
   "source": [
    "elems = WebDriverWait(browser,10).until(EC.presence_of_all_elements_located((By.XPATH, \"//div[@class='articleList']\")))\n",
    "ingredients = []\n",
    "for elem in elems[0].find_elements(By.XPATH, \".//a[@class='content_list_link']\"):\n",
    "    elem_text = elem.get_attribute(\"title\")\n",
    "    elem_url = elem.get_attribute(\"href\")\n",
    "    if OUTPUT_LEVEL >= 1: \n",
    "        print(f\"# [{elem_text}]({elem_url})\")\n",
    "\n",
    "    # Open url in new tab\n",
    "    original_window = browser.current_window_handle\n",
    "    assert len(browser.window_handles) == 1\n",
    "    browser.switch_to.new_window('tabaa')\n",
    "    browser.get(elem_url)  \n",
    "\n",
    "    # Extract elements\n",
    "    sub_elems = WebDriverWait(browser,10).until(EC.presence_of_all_elements_located((By.XPATH, \"//div[@id='content']\")))\n",
    "\n",
    "    # Storage period\n",
    "    if OUTPUT_LEVEL > 1:\n",
    "        print(\"##\", sub_elems[0].find_element(By.XPATH, \".//div[@id='clock_reizouko']\").text)\n",
    "    \n",
    "    # Ingredients\n",
    "    if OUTPUT_LEVEL > 0:\n",
    "        print(\"##\", sub_elems[0].find_element(By.XPATH, \".//div[@id='r_contents']/h2\").text.replace('\\n', ', '))\n",
    "        for ingredient in sub_elems[0].find_elements(By.XPATH, \".//div[@id='r_contents']/p\"):\n",
    "            print(\"\\t\", ingredient.text.replace('\\n', ' '))\n",
    "            ingredients.append(ingredient.text.replace('\\n', ' '))\n",
    "\n",
    "    # Instructions\n",
    "    if OUTPUT_LEVEL > 1:\n",
    "        print(\"##\", sub_elems[0].find_element(By.XPATH, \".//div[@id='ins_contents']/h2\").text.replace('\\n', ', '))\n",
    "        for instruction in sub_elems[0].find_elements(By.XPATH, \".//p[@class='ins_des']\"):\n",
    "            print(\"\\t\", instruction.text.replace('\\n', ' '))\n",
    "\n",
    "    # Close tab and go back to main window\n",
    "    browser.close()\n",
    "    browser.switch_to.window(original_window)\n",
    "    print(50*\"=\")\n",
    "\n",
    "# TODO: Automatically upload to Trello / Google sheets?"
   ]
  },
  {
   "cell_type": "code",
   "execution_count": 8,
   "metadata": {},
   "outputs": [],
   "source": [
    "browser.quit()"
   ]
  },
  {
   "cell_type": "markdown",
   "metadata": {},
   "source": [
    "--- \n",
    "\n",
    "### Extract ingredients data and group same items"
   ]
  },
  {
   "cell_type": "code",
   "execution_count": 9,
   "metadata": {},
   "outputs": [
    {
     "data": {
      "text/plain": [
       "['鶏もも肉 約400g',\n",
       " '豚ひき肉 約300g',\n",
       " 'ピーマン 4個 6個',\n",
       " 'なす 2本 １本',\n",
       " 'にんにく 1かけ',\n",
       " 'ミックスビーンズ 1袋（約120g）',\n",
       " 'トマト 2個 1個（約150g） 4個',\n",
       " '玉ねぎ 1/2個（約150g）',\n",
       " 'カレールー 約20g',\n",
       " 'おかか 小分け1袋（2.5g）',\n",
       " 'ほうれん草 1袋（6～8株） 1袋（6～8株）',\n",
       " 'プロセスチーズ 約40g',\n",
       " '粉チーズ 小1',\n",
       " 'きゅうり 1本',\n",
       " '大豆水煮 1袋（固形量200g）',\n",
       " 'ちりめんじゃこ 約30g',\n",
       " '水 200mL',\n",
       " 'パプリカ（赤） １／２個',\n",
       " 'パプリカ（黄） １／２個']"
      ]
     },
     "execution_count": 9,
     "metadata": {},
     "output_type": "execute_result"
    }
   ],
   "source": [
    "import re\n",
    "\n",
    "parsed_items = {}\n",
    "skipped_items = {}\n",
    "\n",
    "for item in ingredients:\n",
    "    item = re.sub(r'\\（メモ\\d+\\）', '', item)\n",
    "    item = item.replace('◎', '')\n",
    "    item = item.replace('◯', '').strip()\n",
    "\n",
    "    key, value = item.split(' ', 1) \n",
    "    key = key.strip()\n",
    "    value = value.strip()\n",
    "    \n",
    "    if not any(ext in item for ext in [\"油\", \"酢\", \"塩\", \"みりん\", \"みそ\", \"汁\", \"ソース\", \"ペッパー\", \"素\", \"コンソメ\", \"パウダー\", \"砂糖\", \"だし\"]):\n",
    "        if key in parsed_items:\n",
    "            parsed_items[key] += f\" {value}\"\n",
    "        else:\n",
    "            parsed_items[key] = value    \n",
    "    else:\n",
    "        if key in skipped_items:\n",
    "            skipped_items[key] += f\" {value}\"\n",
    "        else:\n",
    "            skipped_items[key] = value\n",
    "\n",
    "result_list = [f\"{key} {value}\" for key, value in parsed_items.items()]\n",
    "\n",
    "result_list"
   ]
  },
  {
   "cell_type": "code",
   "execution_count": 10,
   "metadata": {},
   "outputs": [
    {
     "data": {
      "text/plain": [
       "{'油': '大1',\n",
       " 'レモン汁': '大1/2',\n",
       " '中華スープの素': '5g',\n",
       " 'ブラックペッパー': '1g 少々',\n",
       " 'チリパウダー': '1g',\n",
       " '塩': '少々',\n",
       " 'みりん': '大2 大2',\n",
       " 'みそ': '大1.5',\n",
       " 'オイスターソース': '大1',\n",
       " 'ごま油': '大1（お好みで）',\n",
       " '顆粒コンソメ': '小1',\n",
       " '和風だしの素': '小1/2',\n",
       " '塩こんぶ': '2つまみ（約6g）',\n",
       " '醤油': '大1/2 大1/2 小2 小1 大１／２',\n",
       " '砂糖': '小1/2 大1/2 大1',\n",
       " '塩こうじ': '大1.5',\n",
       " '和風顆粒だし': '小1/3',\n",
       " 'ピーナッツ（うす塩）': '約50g',\n",
       " '白だし': '大2',\n",
       " '調味酢': '大１．５'}"
      ]
     },
     "execution_count": 10,
     "metadata": {},
     "output_type": "execute_result"
    }
   ],
   "source": [
    "skipped_items"
   ]
  }
 ],
 "metadata": {
  "kernelspec": {
   "display_name": "everything",
   "language": "python",
   "name": "python3"
  },
  "language_info": {
   "codemirror_mode": {
    "name": "ipython",
    "version": 3
   },
   "file_extension": ".py",
   "mimetype": "text/x-python",
   "name": "python",
   "nbconvert_exporter": "python",
   "pygments_lexer": "ipython3",
   "version": "3.10.12"
  },
  "orig_nbformat": 4
 },
 "nbformat": 4,
 "nbformat_minor": 2
}
