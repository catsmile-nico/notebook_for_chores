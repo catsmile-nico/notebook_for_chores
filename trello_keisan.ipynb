{
 "cells": [
  {
   "attachments": {},
   "cell_type": "markdown",
   "metadata": {},
   "source": [
    "### README\n",
    "- From a Trello page with a list starting with お金\n",
    "- We want to calculate the costs each initials have raked up\n",
    "- Manual steps\n",
    "  - Input format for each card = {``initials``} {``cost with mathetical symbol if any``} {``description``}\n",
    "  - Run the command to get ``String was copied to clipboard.``\n",
    "  - All Card in List \"お金*\" will be copied\n",
    "- Using the data, we calculate the cost for each ``initials``\n",
    "\n",
    "---"
   ]
  },
  {
   "attachments": {},
   "cell_type": "markdown",
   "metadata": {},
   "source": [
    "### Paste the following into browser console with Trello page open\n",
    "\n",
    "```js\n",
    "var s = []; \n",
    "jQuery.fn.reverse = [].reverse; \n",
    "jQuery(\".list:has(.list-header-name)\").reverse().each(function() \n",
    "    { \n",
    "        var headerText = jQuery(this).find(\".list-header-name-assist\")[0].innerText; \n",
    "        if(~headerText.indexOf(\"お金\")) \n",
    "        { \n",
    "            s.push(\"\\n\" + jQuery(this).find(\".list-header-name-assist\")[0].innerText + \"\\n\"); \n",
    "            jQuery(this).find(\".list-card-title\").each(function() {s.push(\"- \" + this.innerText); }); \n",
    "        }\n",
    "    }); \n",
    "copy(s.join(\"\\n\"));\n",
    "```"
   ]
  },
  {
   "attachments": {},
   "cell_type": "markdown",
   "metadata": {},
   "source": [
    "---"
   ]
  },
  {
   "attachments": {},
   "cell_type": "markdown",
   "metadata": {},
   "source": [
    "Paste clipboard into ``context`` variable below"
   ]
  },
  {
   "cell_type": "code",
   "execution_count": 24,
   "metadata": {},
   "outputs": [
    {
     "name": "stdout",
     "output_type": "stream",
     "text": [
      "FOUND 4 lines\n"
     ]
    }
   ],
   "source": [
    "context = \"\"\"お金 230701\n",
    "\n",
    "- k 1000 a\n",
    "- k　200/3 b\n",
    "- n 300+200 c\n",
    "- n 3000 d\"\"\".replace(\"　\", \" \").split('\\n')\n",
    "\n",
    "lines = [line for line in context if line.startswith(\"- \")]\n",
    "print(f\"FOUND {len(lines)} lines\")"
   ]
  },
  {
   "attachments": {},
   "cell_type": "markdown",
   "metadata": {},
   "source": [
    "Output costs for each initials"
   ]
  },
  {
   "cell_type": "code",
   "execution_count": 25,
   "metadata": {},
   "outputs": [
    {
     "name": "stdout",
     "output_type": "stream",
     "text": [
      "k = 1066.6666666666667\n",
      "n = 3500\n"
     ]
    }
   ],
   "source": [
    "k_total = 0\n",
    "n_total = 0\n",
    "\n",
    "for line in lines:\n",
    "    if line.startswith('- k'):\n",
    "        number = line.split(' ')[2]\n",
    "        k_total += eval(number)\n",
    "    elif line.startswith('- n'):\n",
    "        number = line.split(' ')[2]\n",
    "        n_total += eval(number)\n",
    "\n",
    "print(f\"k = {k_total}\")\n",
    "print(f\"n = {n_total}\")"
   ]
  }
 ],
 "metadata": {
  "kernelspec": {
   "display_name": "everything",
   "language": "python",
   "name": "everything"
  },
  "language_info": {
   "codemirror_mode": {
    "name": "ipython",
    "version": 3
   },
   "file_extension": ".py",
   "mimetype": "text/x-python",
   "name": "python",
   "nbconvert_exporter": "python",
   "pygments_lexer": "ipython3",
   "version": "3.9.16"
  },
  "orig_nbformat": 4
 },
 "nbformat": 4,
 "nbformat_minor": 2
}
